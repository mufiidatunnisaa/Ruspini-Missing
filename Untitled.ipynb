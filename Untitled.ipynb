{
 "cells": [
  {
   "cell_type": "code",
   "execution_count": 4,
   "metadata": {},
   "outputs": [
    {
     "ename": "ModuleNotFoundError",
     "evalue": "No module named 'impyute'",
     "output_type": "error",
     "traceback": [
      "\u001b[1;31m---------------------------------------------------------------------------\u001b[0m",
      "\u001b[1;31mModuleNotFoundError\u001b[0m                       Traceback (most recent call last)",
      "\u001b[1;32m<ipython-input-4-fc15f9f036d6>\u001b[0m in \u001b[0;36m<module>\u001b[1;34m\u001b[0m\n\u001b[0;32m      4\u001b[0m \u001b[1;32mimport\u001b[0m \u001b[0mmatplotlib\u001b[0m\u001b[1;33m.\u001b[0m\u001b[0mpyplot\u001b[0m \u001b[1;32mas\u001b[0m \u001b[0mplt\u001b[0m\u001b[1;33m\u001b[0m\u001b[1;33m\u001b[0m\u001b[0m\n\u001b[0;32m      5\u001b[0m \u001b[1;31m#impyute digunakan untuk memasukkan nilai yg hilang\u001b[0m\u001b[1;33m\u001b[0m\u001b[1;33m\u001b[0m\u001b[1;33m\u001b[0m\u001b[0m\n\u001b[1;32m----> 6\u001b[1;33m \u001b[1;32mimport\u001b[0m \u001b[0mimpyute\u001b[0m \u001b[1;32mas\u001b[0m \u001b[0mimpy\u001b[0m\u001b[1;33m\u001b[0m\u001b[1;33m\u001b[0m\u001b[0m\n\u001b[0m\u001b[0;32m      7\u001b[0m \u001b[1;33m\u001b[0m\u001b[0m\n\u001b[0;32m      8\u001b[0m \u001b[0mdata_ruspini\u001b[0m \u001b[1;33m=\u001b[0m \u001b[0mpd\u001b[0m\u001b[1;33m.\u001b[0m\u001b[0mread_csv\u001b[0m\u001b[1;33m(\u001b[0m\u001b[1;34m\"data_ruspini_missing.csv\"\u001b[0m\u001b[1;33m)\u001b[0m\u001b[1;33m\u001b[0m\u001b[1;33m\u001b[0m\u001b[0m\n",
      "\u001b[1;31mModuleNotFoundError\u001b[0m: No module named 'impyute'"
     ]
    }
   ],
   "source": [
    "#%%\n",
    "import pandas as pd\n",
    "import numpy as np\n",
    "import matplotlib.pyplot as plt\n",
    "#impyute digunakan untuk memasukkan nilai yg hilang\n",
    "import impyute as impy\n",
    "\n",
    "data_ruspini = pd.read_csv(\"data_ruspini_missing.csv\")\n",
    "data_ruspini = data_ruspini.replace(\"?\", np.nan)\n",
    "#data_ruspini\n",
    "\n",
    "data_ruspini_array = np.array(data_ruspini, dtype=float)\n",
    "\n",
    "\n",
    "data_baru = impy.mean(data_ruspini_array)\n",
    "#data_baru\n",
    "\n",
    "data_frame_ruspini_missing = pd.DataFrame({\n",
    "    'x': data_ruspini_array[:, 0],\n",
    "    'y': data_ruspini_array[:, 1],\n",
    "    'label': data_ruspini_array[:, 2],\n",
    "})\n",
    "\n",
    "data_frame_ruspini_baru = pd.DataFrame({\n",
    "    'x': data_baru[:, 0],\n",
    "    'y': data_baru[:, 1],\n",
    "    'label': data_baru[:, 2],\n",
    "})\n",
    "\n",
    "print(data_frame_ruspini_baru)\n",
    "print(data_frame_ruspini_missing)\n",
    "\n",
    "#visualisasi\n",
    "plt.figure('Ruspini Missing')\n",
    "plt.scatter(data_frame_ruspini_missing['x'].values,\n",
    "            data_frame_ruspini_missing['y'].values,\n",
    "            color='r')\n",
    "plt.xlabel('X')\n",
    "plt.ylabel('Y')\n",
    "\n",
    "plt.figure('Ruspini Baru')\n",
    "plt.scatter(data_frame_ruspini_baru['x'].values,\n",
    "            data_frame_ruspini_baru['y'].values,\n",
    "            color='white')\n",
    "plt.xlabel('X')\n",
    "plt.ylabel('Y')\n",
    "plt.show()\n",
    "\n"
   ]
  },
  {
   "cell_type": "code",
   "execution_count": null,
   "metadata": {},
   "outputs": [],
   "source": []
  },
  {
   "cell_type": "code",
   "execution_count": null,
   "metadata": {},
   "outputs": [],
   "source": []
  }
 ],
 "metadata": {
  "kernelspec": {
   "display_name": "Python 3",
   "language": "python",
   "name": "python3"
  },
  "language_info": {
   "codemirror_mode": {
    "name": "ipython",
    "version": 3
   },
   "file_extension": ".py",
   "mimetype": "text/x-python",
   "name": "python",
   "nbconvert_exporter": "python",
   "pygments_lexer": "ipython3",
   "version": "3.7.1"
  }
 },
 "nbformat": 4,
 "nbformat_minor": 2
}
